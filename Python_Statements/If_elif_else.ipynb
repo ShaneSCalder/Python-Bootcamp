{
 "cells": [
  {
   "cell_type": "code",
   "execution_count": 1,
   "metadata": {},
   "outputs": [],
   "source": [
    "# if, elif, else Statements"
   ]
  },
  {
   "cell_type": "code",
   "execution_count": 2,
   "metadata": {},
   "outputs": [
    {
     "data": {
      "text/plain": [
       "'\\n\\nSyntax of an if/else statement \\n\\n    if some_condition:\\n        # execute some code\\n        \\n    elif some_other_condition:\\n        # execute some code\\n        \\n    else:\\n        # do something else\\n\\n'"
      ]
     },
     "execution_count": 2,
     "metadata": {},
     "output_type": "execute_result"
    }
   ],
   "source": [
    "# Sample layout of code \n",
    "\"\"\"\n",
    "\n",
    "Syntax of an if/else statement \n",
    "\n",
    "    if some_condition:\n",
    "        # execute some code\n",
    "        \n",
    "    elif some_other_condition:\n",
    "        # execute some code\n",
    "        \n",
    "    else:\n",
    "        # do something else\n",
    "\n",
    "\"\"\""
   ]
  },
  {
   "cell_type": "code",
   "execution_count": 4,
   "metadata": {},
   "outputs": [
    {
     "name": "stdout",
     "output_type": "stream",
     "text": [
      "I am full.\n"
     ]
    }
   ],
   "source": [
    "hungry = False \n",
    "\n",
    "if hungry:\n",
    "    print('Feed Me!')\n",
    "else:\n",
    "    print('I am full.')"
   ]
  },
  {
   "cell_type": "code",
   "execution_count": 5,
   "metadata": {},
   "outputs": [
    {
     "name": "stdout",
     "output_type": "stream",
     "text": [
      "Feed Me!\n"
     ]
    }
   ],
   "source": [
    "hungry = True \n",
    "\n",
    "if hungry:\n",
    "    print('Feed Me!')\n",
    "else:\n",
    "    print('I am full.')"
   ]
  },
  {
   "cell_type": "code",
   "execution_count": 6,
   "metadata": {},
   "outputs": [
    {
     "name": "stdout",
     "output_type": "stream",
     "text": [
      "Deposit Your loot.\n"
     ]
    }
   ],
   "source": [
    "loc = 'Bank'\n",
    "\n",
    "if loc == 'Auto Shop':\n",
    "    print('Cars Rock')\n",
    "elif loc == 'Bank':\n",
    "    print('Deposit Your loot.')\n",
    "elif loc == 'Store':\n",
    "    print('Remember to buy milk.')\n",
    "else:\n",
    "    print('Enjoy your nap.')"
   ]
  },
  {
   "cell_type": "code",
   "execution_count": 7,
   "metadata": {},
   "outputs": [
    {
     "name": "stdout",
     "output_type": "stream",
     "text": [
      "Enjoy your nap.\n"
     ]
    }
   ],
   "source": [
    "loc = 'beach'\n",
    "\n",
    "if loc == 'Auto Shop':\n",
    "    print('Cars Rock')\n",
    "elif loc == 'Bank':\n",
    "    print('Deposit Your loot.')\n",
    "elif loc == 'Store':\n",
    "    print('Remember to buy milk.')\n",
    "else:\n",
    "    print('Enjoy your nap.')"
   ]
  },
  {
   "cell_type": "code",
   "execution_count": null,
   "metadata": {},
   "outputs": [],
   "source": []
  }
 ],
 "metadata": {
  "kernelspec": {
   "display_name": "Python 3",
   "language": "python",
   "name": "python3"
  },
  "language_info": {
   "codemirror_mode": {
    "name": "ipython",
    "version": 3
   },
   "file_extension": ".py",
   "mimetype": "text/x-python",
   "name": "python",
   "nbconvert_exporter": "python",
   "pygments_lexer": "ipython3",
   "version": "3.7.4"
  }
 },
 "nbformat": 4,
 "nbformat_minor": 2
}
